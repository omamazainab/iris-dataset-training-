{
 "cells": [
  {
   "cell_type": "code",
   "execution_count": 95,
   "metadata": {},
   "outputs": [],
   "source": [
    "import pandas\n",
    "from sklearn.preprocessing import LabelEncoder\n",
    "from tensorflow.keras import utils\n",
    "from tensorflow.keras import models\n",
    "from tensorflow.keras import layers\n",
    "from tensorflow.keras.models import Sequential\n",
    "from tensorflow.keras.layers import Dense\n"
   ]
  },
  {
   "cell_type": "code",
   "execution_count": 96,
   "metadata": {},
   "outputs": [],
   "source": [
    "# load dataset\n",
    "dataframe = pandas.read_csv(\"iris.csv\", header=None)\n",
    "dataframe = dataframe.sample(frac=1)\n",
    "dataset = dataframe.values\n",
    "X = dataset[:,0:4].astype(float) # properties\n",
    "Y = dataset[:,4] # labels\n"
   ]
  },
  {
   "cell_type": "code",
   "execution_count": 97,
   "metadata": {},
   "outputs": [],
   "source": [
    "# encode class values as integers\n",
    "encoder = LabelEncoder()\n",
    "encoder.fit(Y)\n",
    "encoded_Y = encoder.transform(Y)\n",
    "# convert integers to dummy variables (i.e. one hot encoded)\n",
    "dummy_y = utils.to_categorical(encoded_Y)\n"
   ]
  },
  {
   "cell_type": "code",
   "execution_count": 98,
   "metadata": {},
   "outputs": [],
   "source": [
    "train_X = X[0:70,:]\n",
    "train_Y = dummy_y[0:70]\n",
    "\n",
    "test_X = X[70:110,:]\n",
    "test_Y = dummy_y[70:110]\n",
    "\n",
    "val_X = X[110:,:]\n",
    "val_Y = dummy_y[110:]"
   ]
  },
  {
   "cell_type": "code",
   "execution_count": 99,
   "metadata": {},
   "outputs": [],
   "source": [
    "#z score \n",
    "mean = train_X.mean(axis=0)\n",
    "train_X -= mean"
   ]
  },
  {
   "cell_type": "code",
   "execution_count": 100,
   "metadata": {},
   "outputs": [],
   "source": [
    "std = train_X.std(axis = 0)\n",
    "train_X /= std"
   ]
  },
  {
   "cell_type": "code",
   "execution_count": 101,
   "metadata": {},
   "outputs": [],
   "source": [
    "test_X -= mean\n",
    "test_X /= std"
   ]
  },
  {
   "cell_type": "code",
   "execution_count": 102,
   "metadata": {},
   "outputs": [],
   "source": [
    "val_X -= mean\n",
    "val_X /= std"
   ]
  },
  {
   "cell_type": "code",
   "execution_count": 103,
   "metadata": {},
   "outputs": [],
   "source": [
    "network = models.Sequential() #creating sequential model\n",
    "network.add(layers.Dense(70, activation='relu',input_shape= train_X[1].shape)) # fully connected lyer\n",
    "network.add(layers.Dense(140, activation='relu'))\n",
    "network.add(layers.Dense(160, activation='relu'))\n",
    "network.add(layers.Dense(200, activation='relu'))\n",
    "network.add(layers.Dense(3, activation='softmax')) # output lyer, it will return array of 10 probablity scores "
   ]
  },
  {
   "cell_type": "code",
   "execution_count": 104,
   "metadata": {},
   "outputs": [],
   "source": [
    "network.compile(optimizer='rmsprop', \n",
    "loss='categorical_crossentropy',\n",
    "metrics=['accuracy'])"
   ]
  },
  {
   "cell_type": "code",
   "execution_count": 105,
   "metadata": {},
   "outputs": [
    {
     "name": "stdout",
     "output_type": "stream",
     "text": [
      "Train on 70 samples, validate on 40 samples\n",
      "Epoch 1/20\n",
      "70/70 [==============================] - 1s 16ms/sample - loss: 1.1019 - accuracy: 0.2857 - val_loss: 0.9681 - val_accuracy: 0.6500\n",
      "Epoch 2/20\n",
      "70/70 [==============================] - 0s 343us/sample - loss: 0.8999 - accuracy: 0.8143 - val_loss: 0.8501 - val_accuracy: 0.6500\n",
      "Epoch 3/20\n",
      "70/70 [==============================] - 0s 343us/sample - loss: 0.7304 - accuracy: 0.8571 - val_loss: 0.7390 - val_accuracy: 0.6750\n",
      "Epoch 4/20\n",
      "70/70 [==============================] - 0s 286us/sample - loss: 0.5801 - accuracy: 0.8571 - val_loss: 0.6517 - val_accuracy: 0.7000\n",
      "Epoch 5/20\n",
      "70/70 [==============================] - 0s 229us/sample - loss: 0.4674 - accuracy: 0.8714 - val_loss: 0.5835 - val_accuracy: 0.7250\n",
      "Epoch 6/20\n",
      "70/70 [==============================] - 0s 229us/sample - loss: 0.3905 - accuracy: 0.9143 - val_loss: 0.5411 - val_accuracy: 0.7250\n",
      "Epoch 7/20\n",
      "70/70 [==============================] - 0s 343us/sample - loss: 0.3380 - accuracy: 0.9143 - val_loss: 0.5030 - val_accuracy: 0.7250\n",
      "Epoch 8/20\n",
      "70/70 [==============================] - 0s 302us/sample - loss: 0.2996 - accuracy: 0.9286 - val_loss: 0.4852 - val_accuracy: 0.7250\n",
      "Epoch 9/20\n",
      "70/70 [==============================] - 0s 285us/sample - loss: 0.2716 - accuracy: 0.9286 - val_loss: 0.4649 - val_accuracy: 0.8000\n",
      "Epoch 10/20\n",
      "70/70 [==============================] - 0s 229us/sample - loss: 0.2618 - accuracy: 0.9286 - val_loss: 0.5111 - val_accuracy: 0.7750\n",
      "Epoch 11/20\n",
      "70/70 [==============================] - 0s 229us/sample - loss: 0.2791 - accuracy: 0.8857 - val_loss: 0.4505 - val_accuracy: 0.8000\n",
      "Epoch 12/20\n",
      "70/70 [==============================] - 0s 286us/sample - loss: 0.2452 - accuracy: 0.9286 - val_loss: 0.4559 - val_accuracy: 0.7250\n",
      "Epoch 13/20\n",
      "70/70 [==============================] - 0s 329us/sample - loss: 0.2274 - accuracy: 0.9286 - val_loss: 0.4179 - val_accuracy: 0.7750\n",
      "Epoch 14/20\n",
      "70/70 [==============================] - 0s 286us/sample - loss: 0.2049 - accuracy: 0.9429 - val_loss: 0.4135 - val_accuracy: 0.7500\n",
      "Epoch 15/20\n",
      "70/70 [==============================] - 0s 286us/sample - loss: 0.1920 - accuracy: 0.9429 - val_loss: 0.3957 - val_accuracy: 0.7750\n",
      "Epoch 16/20\n",
      "70/70 [==============================] - 0s 286us/sample - loss: 0.1817 - accuracy: 0.9429 - val_loss: 0.3979 - val_accuracy: 0.7500\n",
      "Epoch 17/20\n",
      "70/70 [==============================] - 0s 290us/sample - loss: 0.1768 - accuracy: 0.9429 - val_loss: 0.3905 - val_accuracy: 0.8250\n",
      "Epoch 18/20\n",
      "70/70 [==============================] - 0s 286us/sample - loss: 0.1788 - accuracy: 0.9429 - val_loss: 0.4234 - val_accuracy: 0.8000\n",
      "Epoch 19/20\n",
      "70/70 [==============================] - 0s 229us/sample - loss: 0.1953 - accuracy: 0.9143 - val_loss: 0.3890 - val_accuracy: 0.8750\n",
      "Epoch 20/20\n",
      "70/70 [==============================] - 0s 286us/sample - loss: 0.1728 - accuracy: 0.9429 - val_loss: 0.3926 - val_accuracy: 0.7750\n"
     ]
    },
    {
     "data": {
      "text/plain": [
       "<tensorflow.python.keras.callbacks.History at 0x2824b148908>"
      ]
     },
     "execution_count": 105,
     "metadata": {},
     "output_type": "execute_result"
    }
   ],
   "source": [
    "#we fit the model to its training data\n",
    "network.fit(train_X, train_Y, epochs=20, batch_size=70, validation_data=(val_X, val_Y))"
   ]
  },
  {
   "cell_type": "code",
   "execution_count": 106,
   "metadata": {},
   "outputs": [
    {
     "name": "stdout",
     "output_type": "stream",
     "text": [
      "40/1 [================================================================================================================================================================================================================================================================================================================================================================================================================================================================================================================================================================================================================================================================================================================================================================================================================================================================================================================================================================================================================================================================================================================================================================================================================================================] - 0s 100us/sample - loss: 0.0985 - accuracy: 0.9750\n",
      "test_acc: 0.975\n"
     ]
    }
   ],
   "source": [
    "test_loss, test_acc = network.evaluate(test_X, test_Y)\n",
    "print('test_acc:', test_acc)"
   ]
  },
  {
   "cell_type": "code",
   "execution_count": null,
   "metadata": {},
   "outputs": [],
   "source": []
  }
 ],
 "metadata": {
  "kernelspec": {
   "display_name": "Python 3",
   "language": "python",
   "name": "python3"
  },
  "language_info": {
   "codemirror_mode": {
    "name": "ipython",
    "version": 3
   },
   "file_extension": ".py",
   "mimetype": "text/x-python",
   "name": "python",
   "nbconvert_exporter": "python",
   "pygments_lexer": "ipython3",
   "version": "3.7.3"
  }
 },
 "nbformat": 4,
 "nbformat_minor": 2
}
